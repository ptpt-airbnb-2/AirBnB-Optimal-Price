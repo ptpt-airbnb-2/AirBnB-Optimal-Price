{
 "cells": [
  {
   "cell_type": "markdown",
   "source": [
    "## AirBnB Optimal Price Predictor\n",
    "\n",
    "This notebook downloads the data from remote used in this project and then cleans it. Ready to be used to build a model for predictions.\n"
   ],
   "metadata": {
    "collapsed": false,
    "pycharm": {
     "name": "#%% md\n"
    }
   },
   "outputs": [],
   "execution_count": 0
  },
  {
   "cell_type": "code",
   "execution_count": 2,
   "outputs": [],
   "source": [
    "# Imports\n",
    "import pandas as pd\n",
    "import numpy as np\n",
    "import requests\n",
    "import glob\n",
    "import os\n",
    "import httplib2"
   ],
   "metadata": {
    "collapsed": false,
    "pycharm": {
     "name": "#%%\n"
    }
   }
  },
  {
   "cell_type": "code",
   "execution_count": 4,
   "outputs": [
    {
     "data": {
      "text/plain": "              id                                               name  \\\n0       29786588                                   Bestview Cottage   \n1       45318800  Lakeside House- 23 Acres, 10 minutes from Orange!   \n2       22151808                    Bright and Cosy Room in Orange.   \n3       22518202    HG 105A Sale St. STYLISH IN THE HEART OF ORANGE   \n4       21871881  \"BLUE & WHITE NILE\"  Work, Rest or Play. Walk CBD   \n...          ...                                                ...   \n153909  47383518        2 bedroom apartment in the heart of Dickson   \n153910  25961546                  Pialligo Vines - A Country Estate   \n153911  31335541            A spacious room with a spectacular view   \n153912  29217916                                 Bourkey's room one   \n153913  42478322    Private room with a private bathroom and a view   \n\n          host_id                  host_name           neighbourhood_group  \\\n0       224083235                    Carmela               New South Wales   \n1       366315077           Harry & Danielle               New South Wales   \n2        78371092                      Diana               New South Wales   \n3        89994665  Marianne, Terry & Richard               New South Wales   \n4        78345518                    Kristin               New South Wales   \n...           ...                        ...                           ...   \n153909   37476631                       Adam  Australian Capital Territory   \n153910   19759369              Helen & Terry  Australian Capital Territory   \n153911  234587680                      Helen  Australian Capital Territory   \n153912  219560800                      Terry  Australian Capital Territory   \n153913  338245907                        Rad  Australian Capital Territory   \n\n             neighbourhood  latitude  longitude        room_type  price  \\\n0                  Orange  -33.33346  149.03763  Entire home/apt    190   \n1                  Orange  -33.33337  149.04834  Entire home/apt   1000   \n2                  Orange  -33.28470  149.10878     Private room     68   \n3                  Orange  -33.27709  149.09787  Entire home/apt    166   \n4                  Orange  -33.28375  149.11322  Entire home/apt    290   \n...                    ...       ...        ...              ...    ...   \n153909  Unincorporated ACT -35.25055  149.13621  Entire home/apt    135   \n153910  Unincorporated ACT -35.31129  149.18094  Entire home/apt    195   \n153911  Unincorporated ACT -35.18414  149.11046     Private room     68   \n153912  Unincorporated ACT -35.15848  149.09918     Private room     40   \n153913  Unincorporated ACT -35.38050  149.11336     Private room     60   \n\n        minimum_nights  number_of_reviews  number_of_reviews_ltm last_review  \\\n0                    1                 81                     21  2021-01-29   \n1                    2                 14                     14  2021-01-21   \n2                    2                  5                      0  2018-10-06   \n3                    1                158                     59  2021-01-25   \n4                    2                 86                     23  2021-01-26   \n...                ...                ...                    ...         ...   \n153909               2                  0                      0         NaN   \n153910               2                 72                     39  2021-01-25   \n153911               1                  9                      4  2020-12-11   \n153912               1                 97                     18  2021-01-25   \n153913              90                  0                      0         NaN   \n\n        reviews_per_month  calculated_host_listings_count  availability_365  \n0                    3.00                               1               167  \n1                    3.62                               1                29  \n2                    0.14                               4               274  \n3                    4.48                               2               320  \n4                    2.26                               1                92  \n...                   ...                             ...               ...  \n153909                NaN                               1               155  \n153910               2.38                               1               172  \n153911               0.39                               2                84  \n153912               3.48                               3                68  \n153913                NaN                               1                89  \n\n[153914 rows x 17 columns]",
      "text/html": "<div>\n<style scoped>\n    .dataframe tbody tr th:only-of-type {\n        vertical-align: middle;\n    }\n\n    .dataframe tbody tr th {\n        vertical-align: top;\n    }\n\n    .dataframe thead th {\n        text-align: right;\n    }\n</style>\n<table border=\"1\" class=\"dataframe\">\n  <thead>\n    <tr style=\"text-align: right;\">\n      <th></th>\n      <th>id</th>\n      <th>name</th>\n      <th>host_id</th>\n      <th>host_name</th>\n      <th>neighbourhood_group</th>\n      <th>neighbourhood</th>\n      <th>latitude</th>\n      <th>longitude</th>\n      <th>room_type</th>\n      <th>price</th>\n      <th>minimum_nights</th>\n      <th>number_of_reviews</th>\n      <th>number_of_reviews_ltm</th>\n      <th>last_review</th>\n      <th>reviews_per_month</th>\n      <th>calculated_host_listings_count</th>\n      <th>availability_365</th>\n    </tr>\n  </thead>\n  <tbody>\n    <tr>\n      <th>0</th>\n      <td>29786588</td>\n      <td>Bestview Cottage</td>\n      <td>224083235</td>\n      <td>Carmela</td>\n      <td>New South Wales</td>\n      <td>Orange</td>\n      <td>-33.33346</td>\n      <td>149.03763</td>\n      <td>Entire home/apt</td>\n      <td>190</td>\n      <td>1</td>\n      <td>81</td>\n      <td>21</td>\n      <td>2021-01-29</td>\n      <td>3.00</td>\n      <td>1</td>\n      <td>167</td>\n    </tr>\n    <tr>\n      <th>1</th>\n      <td>45318800</td>\n      <td>Lakeside House- 23 Acres, 10 minutes from Orange!</td>\n      <td>366315077</td>\n      <td>Harry &amp; Danielle</td>\n      <td>New South Wales</td>\n      <td>Orange</td>\n      <td>-33.33337</td>\n      <td>149.04834</td>\n      <td>Entire home/apt</td>\n      <td>1000</td>\n      <td>2</td>\n      <td>14</td>\n      <td>14</td>\n      <td>2021-01-21</td>\n      <td>3.62</td>\n      <td>1</td>\n      <td>29</td>\n    </tr>\n    <tr>\n      <th>2</th>\n      <td>22151808</td>\n      <td>Bright and Cosy Room in Orange.</td>\n      <td>78371092</td>\n      <td>Diana</td>\n      <td>New South Wales</td>\n      <td>Orange</td>\n      <td>-33.28470</td>\n      <td>149.10878</td>\n      <td>Private room</td>\n      <td>68</td>\n      <td>2</td>\n      <td>5</td>\n      <td>0</td>\n      <td>2018-10-06</td>\n      <td>0.14</td>\n      <td>4</td>\n      <td>274</td>\n    </tr>\n    <tr>\n      <th>3</th>\n      <td>22518202</td>\n      <td>HG 105A Sale St. STYLISH IN THE HEART OF ORANGE</td>\n      <td>89994665</td>\n      <td>Marianne, Terry &amp; Richard</td>\n      <td>New South Wales</td>\n      <td>Orange</td>\n      <td>-33.27709</td>\n      <td>149.09787</td>\n      <td>Entire home/apt</td>\n      <td>166</td>\n      <td>1</td>\n      <td>158</td>\n      <td>59</td>\n      <td>2021-01-25</td>\n      <td>4.48</td>\n      <td>2</td>\n      <td>320</td>\n    </tr>\n    <tr>\n      <th>4</th>\n      <td>21871881</td>\n      <td>\"BLUE &amp; WHITE NILE\"  Work, Rest or Play. Walk CBD</td>\n      <td>78345518</td>\n      <td>Kristin</td>\n      <td>New South Wales</td>\n      <td>Orange</td>\n      <td>-33.28375</td>\n      <td>149.11322</td>\n      <td>Entire home/apt</td>\n      <td>290</td>\n      <td>2</td>\n      <td>86</td>\n      <td>23</td>\n      <td>2021-01-26</td>\n      <td>2.26</td>\n      <td>1</td>\n      <td>92</td>\n    </tr>\n    <tr>\n      <th>...</th>\n      <td>...</td>\n      <td>...</td>\n      <td>...</td>\n      <td>...</td>\n      <td>...</td>\n      <td>...</td>\n      <td>...</td>\n      <td>...</td>\n      <td>...</td>\n      <td>...</td>\n      <td>...</td>\n      <td>...</td>\n      <td>...</td>\n      <td>...</td>\n      <td>...</td>\n      <td>...</td>\n      <td>...</td>\n    </tr>\n    <tr>\n      <th>153909</th>\n      <td>47383518</td>\n      <td>2 bedroom apartment in the heart of Dickson</td>\n      <td>37476631</td>\n      <td>Adam</td>\n      <td>Australian Capital Territory</td>\n      <td>Unincorporated ACT</td>\n      <td>-35.25055</td>\n      <td>149.13621</td>\n      <td>Entire home/apt</td>\n      <td>135</td>\n      <td>2</td>\n      <td>0</td>\n      <td>0</td>\n      <td>NaN</td>\n      <td>NaN</td>\n      <td>1</td>\n      <td>155</td>\n    </tr>\n    <tr>\n      <th>153910</th>\n      <td>25961546</td>\n      <td>Pialligo Vines - A Country Estate</td>\n      <td>19759369</td>\n      <td>Helen &amp; Terry</td>\n      <td>Australian Capital Territory</td>\n      <td>Unincorporated ACT</td>\n      <td>-35.31129</td>\n      <td>149.18094</td>\n      <td>Entire home/apt</td>\n      <td>195</td>\n      <td>2</td>\n      <td>72</td>\n      <td>39</td>\n      <td>2021-01-25</td>\n      <td>2.38</td>\n      <td>1</td>\n      <td>172</td>\n    </tr>\n    <tr>\n      <th>153911</th>\n      <td>31335541</td>\n      <td>A spacious room with a spectacular view</td>\n      <td>234587680</td>\n      <td>Helen</td>\n      <td>Australian Capital Territory</td>\n      <td>Unincorporated ACT</td>\n      <td>-35.18414</td>\n      <td>149.11046</td>\n      <td>Private room</td>\n      <td>68</td>\n      <td>1</td>\n      <td>9</td>\n      <td>4</td>\n      <td>2020-12-11</td>\n      <td>0.39</td>\n      <td>2</td>\n      <td>84</td>\n    </tr>\n    <tr>\n      <th>153912</th>\n      <td>29217916</td>\n      <td>Bourkey's room one</td>\n      <td>219560800</td>\n      <td>Terry</td>\n      <td>Australian Capital Territory</td>\n      <td>Unincorporated ACT</td>\n      <td>-35.15848</td>\n      <td>149.09918</td>\n      <td>Private room</td>\n      <td>40</td>\n      <td>1</td>\n      <td>97</td>\n      <td>18</td>\n      <td>2021-01-25</td>\n      <td>3.48</td>\n      <td>3</td>\n      <td>68</td>\n    </tr>\n    <tr>\n      <th>153913</th>\n      <td>42478322</td>\n      <td>Private room with a private bathroom and a view</td>\n      <td>338245907</td>\n      <td>Rad</td>\n      <td>Australian Capital Territory</td>\n      <td>Unincorporated ACT</td>\n      <td>-35.38050</td>\n      <td>149.11336</td>\n      <td>Private room</td>\n      <td>60</td>\n      <td>90</td>\n      <td>0</td>\n      <td>0</td>\n      <td>NaN</td>\n      <td>NaN</td>\n      <td>1</td>\n      <td>89</td>\n    </tr>\n  </tbody>\n</table>\n<p>153914 rows × 17 columns</p>\n</div>"
     },
     "execution_count": 4,
     "metadata": {},
     "output_type": "execute_result"
    }
   ],
   "source": [
    "df = pd.read_csv('../data/raw/australia_visualisations_listings.csv.csv')\n",
    "\n",
    "df"
   ],
   "metadata": {
    "collapsed": false,
    "pycharm": {
     "name": "#%%\n"
    }
   }
  },
  {
   "cell_type": "code",
   "execution_count": 6,
   "outputs": [
    {
     "data": {
      "text/plain": "             neighbourhood  latitude  longitude        room_type  price  \\\n0                  Orange  -33.33346  149.03763  Entire home/apt    190   \n1                  Orange  -33.33337  149.04834  Entire home/apt   1000   \n2                  Orange  -33.28470  149.10878     Private room     68   \n3                  Orange  -33.27709  149.09787  Entire home/apt    166   \n4                  Orange  -33.28375  149.11322  Entire home/apt    290   \n...                    ...       ...        ...              ...    ...   \n153909  Unincorporated ACT -35.25055  149.13621  Entire home/apt    135   \n153910  Unincorporated ACT -35.31129  149.18094  Entire home/apt    195   \n153911  Unincorporated ACT -35.18414  149.11046     Private room     68   \n153912  Unincorporated ACT -35.15848  149.09918     Private room     40   \n153913  Unincorporated ACT -35.38050  149.11336     Private room     60   \n\n        minimum_nights  number_of_reviews  calculated_host_listings_count  \\\n0                    1                 81                               1   \n1                    2                 14                               1   \n2                    2                  5                               4   \n3                    1                158                               2   \n4                    2                 86                               1   \n...                ...                ...                             ...   \n153909               2                  0                               1   \n153910               2                 72                               1   \n153911               1                  9                               2   \n153912               1                 97                               3   \n153913              90                  0                               1   \n\n        availability_365  \n0                    167  \n1                     29  \n2                    274  \n3                    320  \n4                     92  \n...                  ...  \n153909               155  \n153910               172  \n153911                84  \n153912                68  \n153913                89  \n\n[153914 rows x 9 columns]",
      "text/html": "<div>\n<style scoped>\n    .dataframe tbody tr th:only-of-type {\n        vertical-align: middle;\n    }\n\n    .dataframe tbody tr th {\n        vertical-align: top;\n    }\n\n    .dataframe thead th {\n        text-align: right;\n    }\n</style>\n<table border=\"1\" class=\"dataframe\">\n  <thead>\n    <tr style=\"text-align: right;\">\n      <th></th>\n      <th>neighbourhood</th>\n      <th>latitude</th>\n      <th>longitude</th>\n      <th>room_type</th>\n      <th>price</th>\n      <th>minimum_nights</th>\n      <th>number_of_reviews</th>\n      <th>calculated_host_listings_count</th>\n      <th>availability_365</th>\n    </tr>\n  </thead>\n  <tbody>\n    <tr>\n      <th>0</th>\n      <td>Orange</td>\n      <td>-33.33346</td>\n      <td>149.03763</td>\n      <td>Entire home/apt</td>\n      <td>190</td>\n      <td>1</td>\n      <td>81</td>\n      <td>1</td>\n      <td>167</td>\n    </tr>\n    <tr>\n      <th>1</th>\n      <td>Orange</td>\n      <td>-33.33337</td>\n      <td>149.04834</td>\n      <td>Entire home/apt</td>\n      <td>1000</td>\n      <td>2</td>\n      <td>14</td>\n      <td>1</td>\n      <td>29</td>\n    </tr>\n    <tr>\n      <th>2</th>\n      <td>Orange</td>\n      <td>-33.28470</td>\n      <td>149.10878</td>\n      <td>Private room</td>\n      <td>68</td>\n      <td>2</td>\n      <td>5</td>\n      <td>4</td>\n      <td>274</td>\n    </tr>\n    <tr>\n      <th>3</th>\n      <td>Orange</td>\n      <td>-33.27709</td>\n      <td>149.09787</td>\n      <td>Entire home/apt</td>\n      <td>166</td>\n      <td>1</td>\n      <td>158</td>\n      <td>2</td>\n      <td>320</td>\n    </tr>\n    <tr>\n      <th>4</th>\n      <td>Orange</td>\n      <td>-33.28375</td>\n      <td>149.11322</td>\n      <td>Entire home/apt</td>\n      <td>290</td>\n      <td>2</td>\n      <td>86</td>\n      <td>1</td>\n      <td>92</td>\n    </tr>\n    <tr>\n      <th>...</th>\n      <td>...</td>\n      <td>...</td>\n      <td>...</td>\n      <td>...</td>\n      <td>...</td>\n      <td>...</td>\n      <td>...</td>\n      <td>...</td>\n      <td>...</td>\n    </tr>\n    <tr>\n      <th>153909</th>\n      <td>Unincorporated ACT</td>\n      <td>-35.25055</td>\n      <td>149.13621</td>\n      <td>Entire home/apt</td>\n      <td>135</td>\n      <td>2</td>\n      <td>0</td>\n      <td>1</td>\n      <td>155</td>\n    </tr>\n    <tr>\n      <th>153910</th>\n      <td>Unincorporated ACT</td>\n      <td>-35.31129</td>\n      <td>149.18094</td>\n      <td>Entire home/apt</td>\n      <td>195</td>\n      <td>2</td>\n      <td>72</td>\n      <td>1</td>\n      <td>172</td>\n    </tr>\n    <tr>\n      <th>153911</th>\n      <td>Unincorporated ACT</td>\n      <td>-35.18414</td>\n      <td>149.11046</td>\n      <td>Private room</td>\n      <td>68</td>\n      <td>1</td>\n      <td>9</td>\n      <td>2</td>\n      <td>84</td>\n    </tr>\n    <tr>\n      <th>153912</th>\n      <td>Unincorporated ACT</td>\n      <td>-35.15848</td>\n      <td>149.09918</td>\n      <td>Private room</td>\n      <td>40</td>\n      <td>1</td>\n      <td>97</td>\n      <td>3</td>\n      <td>68</td>\n    </tr>\n    <tr>\n      <th>153913</th>\n      <td>Unincorporated ACT</td>\n      <td>-35.38050</td>\n      <td>149.11336</td>\n      <td>Private room</td>\n      <td>60</td>\n      <td>90</td>\n      <td>0</td>\n      <td>1</td>\n      <td>89</td>\n    </tr>\n  </tbody>\n</table>\n<p>153914 rows × 9 columns</p>\n</div>"
     },
     "execution_count": 6,
     "metadata": {},
     "output_type": "execute_result"
    }
   ],
   "source": [
    "# Drop unncessary columns\n",
    "df.drop(labels=['id', 'name', 'host_id', 'host_name', 'number_of_reviews_ltm', 'neighbourhood_group', 'reviews_per_month', 'last_review'], axis=1, inplace=True)\n",
    "df"
   ],
   "metadata": {
    "collapsed": false,
    "pycharm": {
     "name": "#%%\n"
    }
   }
  },
  {
   "cell_type": "code",
   "execution_count": 7,
   "outputs": [
    {
     "data": {
      "text/plain": "neighbourhood                     0\nlatitude                          0\nlongitude                         0\nroom_type                         0\nprice                             0\nminimum_nights                    0\nnumber_of_reviews                 0\ncalculated_host_listings_count    0\navailability_365                  0\ndtype: int64"
     },
     "execution_count": 7,
     "metadata": {},
     "output_type": "execute_result"
    }
   ],
   "source": [
    "# Check out for any null values\n",
    "df.isnull().sum()\n",
    "# No null values"
   ],
   "metadata": {
    "collapsed": false,
    "pycharm": {
     "name": "#%%\n"
    }
   }
  },
  {
   "cell_type": "code",
   "execution_count": 8,
   "outputs": [
    {
     "data": {
      "text/plain": "       neighbourhood       latitude      longitude        room_type  \\\ncount         153914  153914.000000  153914.000000           153914   \nunique           508            NaN            NaN                4   \ntop          Sydney             NaN            NaN  Entire home/apt   \nfreq            8148            NaN            NaN           114630   \nmean             NaN     -33.257543     146.183371              NaN   \nstd              NaN       5.074834       9.664016              NaN   \nmin              NaN     -43.580050      96.831310              NaN   \n25%              NaN     -37.572468     144.965470              NaN   \n50%              NaN     -33.886870     150.378895              NaN   \n75%              NaN     -31.884408     151.287350              NaN   \nmax              NaN     -10.415250     159.061500              NaN   \n\n                price  minimum_nights  number_of_reviews  \\\ncount   153914.000000   153914.000000      153914.000000   \nunique            NaN             NaN                NaN   \ntop               NaN             NaN                NaN   \nfreq              NaN             NaN                NaN   \nmean       255.932709        3.925848          29.800902   \nstd        509.293129       21.398849          53.670211   \nmin          0.000000        1.000000           0.000000   \n25%         99.000000        1.000000           1.000000   \n50%        163.000000        2.000000           8.000000   \n75%        286.000000        3.000000          34.000000   \nmax      28613.000000     1125.000000         861.000000   \n\n        calculated_host_listings_count  availability_365  \ncount                    153914.000000     153914.000000  \nunique                             NaN               NaN  \ntop                                NaN               NaN  \nfreq                               NaN               NaN  \nmean                         15.511221        164.495264  \nstd                          51.409165        140.028747  \nmin                           1.000000          0.000000  \n25%                           1.000000          1.000000  \n50%                           2.000000        155.000000  \n75%                           5.000000        313.000000  \nmax                         607.000000        365.000000  ",
      "text/html": "<div>\n<style scoped>\n    .dataframe tbody tr th:only-of-type {\n        vertical-align: middle;\n    }\n\n    .dataframe tbody tr th {\n        vertical-align: top;\n    }\n\n    .dataframe thead th {\n        text-align: right;\n    }\n</style>\n<table border=\"1\" class=\"dataframe\">\n  <thead>\n    <tr style=\"text-align: right;\">\n      <th></th>\n      <th>neighbourhood</th>\n      <th>latitude</th>\n      <th>longitude</th>\n      <th>room_type</th>\n      <th>price</th>\n      <th>minimum_nights</th>\n      <th>number_of_reviews</th>\n      <th>calculated_host_listings_count</th>\n      <th>availability_365</th>\n    </tr>\n  </thead>\n  <tbody>\n    <tr>\n      <th>count</th>\n      <td>153914</td>\n      <td>153914.000000</td>\n      <td>153914.000000</td>\n      <td>153914</td>\n      <td>153914.000000</td>\n      <td>153914.000000</td>\n      <td>153914.000000</td>\n      <td>153914.000000</td>\n      <td>153914.000000</td>\n    </tr>\n    <tr>\n      <th>unique</th>\n      <td>508</td>\n      <td>NaN</td>\n      <td>NaN</td>\n      <td>4</td>\n      <td>NaN</td>\n      <td>NaN</td>\n      <td>NaN</td>\n      <td>NaN</td>\n      <td>NaN</td>\n    </tr>\n    <tr>\n      <th>top</th>\n      <td>Sydney</td>\n      <td>NaN</td>\n      <td>NaN</td>\n      <td>Entire home/apt</td>\n      <td>NaN</td>\n      <td>NaN</td>\n      <td>NaN</td>\n      <td>NaN</td>\n      <td>NaN</td>\n    </tr>\n    <tr>\n      <th>freq</th>\n      <td>8148</td>\n      <td>NaN</td>\n      <td>NaN</td>\n      <td>114630</td>\n      <td>NaN</td>\n      <td>NaN</td>\n      <td>NaN</td>\n      <td>NaN</td>\n      <td>NaN</td>\n    </tr>\n    <tr>\n      <th>mean</th>\n      <td>NaN</td>\n      <td>-33.257543</td>\n      <td>146.183371</td>\n      <td>NaN</td>\n      <td>255.932709</td>\n      <td>3.925848</td>\n      <td>29.800902</td>\n      <td>15.511221</td>\n      <td>164.495264</td>\n    </tr>\n    <tr>\n      <th>std</th>\n      <td>NaN</td>\n      <td>5.074834</td>\n      <td>9.664016</td>\n      <td>NaN</td>\n      <td>509.293129</td>\n      <td>21.398849</td>\n      <td>53.670211</td>\n      <td>51.409165</td>\n      <td>140.028747</td>\n    </tr>\n    <tr>\n      <th>min</th>\n      <td>NaN</td>\n      <td>-43.580050</td>\n      <td>96.831310</td>\n      <td>NaN</td>\n      <td>0.000000</td>\n      <td>1.000000</td>\n      <td>0.000000</td>\n      <td>1.000000</td>\n      <td>0.000000</td>\n    </tr>\n    <tr>\n      <th>25%</th>\n      <td>NaN</td>\n      <td>-37.572468</td>\n      <td>144.965470</td>\n      <td>NaN</td>\n      <td>99.000000</td>\n      <td>1.000000</td>\n      <td>1.000000</td>\n      <td>1.000000</td>\n      <td>1.000000</td>\n    </tr>\n    <tr>\n      <th>50%</th>\n      <td>NaN</td>\n      <td>-33.886870</td>\n      <td>150.378895</td>\n      <td>NaN</td>\n      <td>163.000000</td>\n      <td>2.000000</td>\n      <td>8.000000</td>\n      <td>2.000000</td>\n      <td>155.000000</td>\n    </tr>\n    <tr>\n      <th>75%</th>\n      <td>NaN</td>\n      <td>-31.884408</td>\n      <td>151.287350</td>\n      <td>NaN</td>\n      <td>286.000000</td>\n      <td>3.000000</td>\n      <td>34.000000</td>\n      <td>5.000000</td>\n      <td>313.000000</td>\n    </tr>\n    <tr>\n      <th>max</th>\n      <td>NaN</td>\n      <td>-10.415250</td>\n      <td>159.061500</td>\n      <td>NaN</td>\n      <td>28613.000000</td>\n      <td>1125.000000</td>\n      <td>861.000000</td>\n      <td>607.000000</td>\n      <td>365.000000</td>\n    </tr>\n  </tbody>\n</table>\n</div>"
     },
     "execution_count": 8,
     "metadata": {},
     "output_type": "execute_result"
    }
   ],
   "source": [
    "df.describe(include='all')"
   ],
   "metadata": {
    "collapsed": false,
    "pycharm": {
     "name": "#%%\n"
    }
   }
  },
  {
   "cell_type": "code",
   "execution_count": 9,
   "outputs": [
    {
     "data": {
      "text/plain": "Index(['neighbourhood', 'latitude', 'longitude', 'room_type', 'price',\n       'minimum_nights', 'number_of_reviews', 'calculated_host_listings_count',\n       'availability_365'],\n      dtype='object')"
     },
     "execution_count": 9,
     "metadata": {},
     "output_type": "execute_result"
    }
   ],
   "source": [
    "df.columns"
   ],
   "metadata": {
    "collapsed": false,
    "pycharm": {
     "name": "#%%\n"
    }
   }
  },
  {
   "cell_type": "code",
   "execution_count": 13,
   "outputs": [
    {
     "ename": "TypeError",
     "evalue": "'(slice(None, None, None), slice(None, -1, None))' is an invalid key",
     "output_type": "error",
     "traceback": [
      "\u001B[0;31m---------------------------------------------------------------------------\u001B[0m",
      "\u001B[0;31mTypeError\u001B[0m                                 Traceback (most recent call last)",
      "\u001B[0;32m<ipython-input-13-e593e231cee0>\u001B[0m in \u001B[0;36m<module>\u001B[0;34m\u001B[0m\n\u001B[1;32m      4\u001B[0m        'availability_365', 'price']]\n\u001B[1;32m      5\u001B[0m \u001B[0;34m\u001B[0m\u001B[0m\n\u001B[0;32m----> 6\u001B[0;31m \u001B[0mX\u001B[0m \u001B[0;34m=\u001B[0m \u001B[0mdf\u001B[0m\u001B[0;34m[\u001B[0m\u001B[0;34m:\u001B[0m\u001B[0;34m,\u001B[0m\u001B[0;34m:\u001B[0m\u001B[0;34m-\u001B[0m\u001B[0;36m1\u001B[0m\u001B[0;34m]\u001B[0m\u001B[0;34m\u001B[0m\u001B[0m\n\u001B[0m\u001B[1;32m      7\u001B[0m \u001B[0my\u001B[0m \u001B[0;34m=\u001B[0m \u001B[0mdf\u001B[0m\u001B[0;34m[\u001B[0m\u001B[0;34m:\u001B[0m\u001B[0;34m,\u001B[0m\u001B[0;34m-\u001B[0m\u001B[0;36m1\u001B[0m\u001B[0;34m]\u001B[0m\u001B[0;34m\u001B[0m\u001B[0m\n\u001B[1;32m      8\u001B[0m \u001B[0;34m\u001B[0m\u001B[0m\n",
      "\u001B[0;32m~/opt/anaconda3/envs/U4-S1-NLP/lib/python3.7/site-packages/pandas/core/frame.py\u001B[0m in \u001B[0;36m__getitem__\u001B[0;34m(self, key)\u001B[0m\n\u001B[1;32m   2904\u001B[0m             \u001B[0;32mif\u001B[0m \u001B[0mself\u001B[0m\u001B[0;34m.\u001B[0m\u001B[0mcolumns\u001B[0m\u001B[0;34m.\u001B[0m\u001B[0mnlevels\u001B[0m \u001B[0;34m>\u001B[0m \u001B[0;36m1\u001B[0m\u001B[0;34m:\u001B[0m\u001B[0;34m\u001B[0m\u001B[0m\n\u001B[1;32m   2905\u001B[0m                 \u001B[0;32mreturn\u001B[0m \u001B[0mself\u001B[0m\u001B[0;34m.\u001B[0m\u001B[0m_getitem_multilevel\u001B[0m\u001B[0;34m(\u001B[0m\u001B[0mkey\u001B[0m\u001B[0;34m)\u001B[0m\u001B[0;34m\u001B[0m\u001B[0m\n\u001B[0;32m-> 2906\u001B[0;31m             \u001B[0mindexer\u001B[0m \u001B[0;34m=\u001B[0m \u001B[0mself\u001B[0m\u001B[0;34m.\u001B[0m\u001B[0mcolumns\u001B[0m\u001B[0;34m.\u001B[0m\u001B[0mget_loc\u001B[0m\u001B[0;34m(\u001B[0m\u001B[0mkey\u001B[0m\u001B[0;34m)\u001B[0m\u001B[0;34m\u001B[0m\u001B[0m\n\u001B[0m\u001B[1;32m   2907\u001B[0m             \u001B[0;32mif\u001B[0m \u001B[0mis_integer\u001B[0m\u001B[0;34m(\u001B[0m\u001B[0mindexer\u001B[0m\u001B[0;34m)\u001B[0m\u001B[0;34m:\u001B[0m\u001B[0;34m\u001B[0m\u001B[0m\n\u001B[1;32m   2908\u001B[0m                 \u001B[0mindexer\u001B[0m \u001B[0;34m=\u001B[0m \u001B[0;34m[\u001B[0m\u001B[0mindexer\u001B[0m\u001B[0;34m]\u001B[0m\u001B[0;34m\u001B[0m\u001B[0m\n",
      "\u001B[0;32m~/opt/anaconda3/envs/U4-S1-NLP/lib/python3.7/site-packages/pandas/core/indexes/base.py\u001B[0m in \u001B[0;36mget_loc\u001B[0;34m(self, key, method, tolerance)\u001B[0m\n\u001B[1;32m   2896\u001B[0m             \u001B[0mcasted_key\u001B[0m \u001B[0;34m=\u001B[0m \u001B[0mself\u001B[0m\u001B[0;34m.\u001B[0m\u001B[0m_maybe_cast_indexer\u001B[0m\u001B[0;34m(\u001B[0m\u001B[0mkey\u001B[0m\u001B[0;34m)\u001B[0m\u001B[0;34m\u001B[0m\u001B[0m\n\u001B[1;32m   2897\u001B[0m             \u001B[0;32mtry\u001B[0m\u001B[0;34m:\u001B[0m\u001B[0;34m\u001B[0m\u001B[0m\n\u001B[0;32m-> 2898\u001B[0;31m                 \u001B[0;32mreturn\u001B[0m \u001B[0mself\u001B[0m\u001B[0;34m.\u001B[0m\u001B[0m_engine\u001B[0m\u001B[0;34m.\u001B[0m\u001B[0mget_loc\u001B[0m\u001B[0;34m(\u001B[0m\u001B[0mcasted_key\u001B[0m\u001B[0;34m)\u001B[0m\u001B[0;34m\u001B[0m\u001B[0m\n\u001B[0m\u001B[1;32m   2899\u001B[0m             \u001B[0;32mexcept\u001B[0m \u001B[0mKeyError\u001B[0m \u001B[0;32mas\u001B[0m \u001B[0merr\u001B[0m\u001B[0;34m:\u001B[0m\u001B[0;34m\u001B[0m\u001B[0m\n\u001B[1;32m   2900\u001B[0m                 \u001B[0;32mraise\u001B[0m \u001B[0mKeyError\u001B[0m\u001B[0;34m(\u001B[0m\u001B[0mkey\u001B[0m\u001B[0;34m)\u001B[0m \u001B[0;32mfrom\u001B[0m \u001B[0merr\u001B[0m\u001B[0;34m\u001B[0m\u001B[0m\n",
      "\u001B[0;32mpandas/_libs/index.pyx\u001B[0m in \u001B[0;36mpandas._libs.index.IndexEngine.get_loc\u001B[0;34m()\u001B[0m\n",
      "\u001B[0;32mpandas/_libs/index.pyx\u001B[0m in \u001B[0;36mpandas._libs.index.IndexEngine.get_loc\u001B[0;34m()\u001B[0m\n",
      "\u001B[0;31mTypeError\u001B[0m: '(slice(None, None, None), slice(None, -1, None))' is an invalid key"
     ]
    }
   ],
   "source": [
    "# Rearrange columns in X, y format\n",
    "df[['neighbourhood', 'latitude', 'longitude', 'room_type',\n",
    "       'minimum_nights', 'number_of_reviews', 'calculated_host_listings_count',\n",
    "       'availability_365', 'price']]\n",
    "\n",
    "X = df[:,:-1]\n",
    "y = df[:,-1]"
   ],
   "metadata": {
    "collapsed": false,
    "pycharm": {
     "name": "#%%\n"
    }
   }
  },
  {
   "cell_type": "code",
   "execution_count": null,
   "outputs": [],
   "source": [
    "# Train test split\n",
    "from sklearn.model_selection import train_test_split\n",
    "\n",
    "X_train, X_test, y_train, y_test = train_test_split(X, y, random_state=42, test_size=0.3)\n"
   ],
   "metadata": {
    "collapsed": false,
    "pycharm": {
     "name": "#%%\n"
    }
   }
  },
  {
   "cell_type": "code",
   "execution_count": null,
   "outputs": [],
   "source": [],
   "metadata": {
    "collapsed": false,
    "pycharm": {
     "name": "#%%\n"
    }
   }
  },
  {
   "cell_type": "code",
   "execution_count": null,
   "outputs": [],
   "source": [],
   "metadata": {
    "collapsed": false,
    "pycharm": {
     "name": "#%%\n"
    }
   }
  },
  {
   "cell_type": "code",
   "execution_count": null,
   "outputs": [],
   "source": [],
   "metadata": {
    "collapsed": false,
    "pycharm": {
     "name": "#%%\n"
    }
   }
  },
  {
   "cell_type": "code",
   "execution_count": null,
   "outputs": [],
   "source": [],
   "metadata": {
    "collapsed": false,
    "pycharm": {
     "name": "#%%\n"
    }
   }
  },
  {
   "cell_type": "code",
   "execution_count": null,
   "outputs": [],
   "source": [],
   "metadata": {
    "collapsed": false,
    "pycharm": {
     "name": "#%%\n"
    }
   }
  }
 ],
 "metadata": {
  "accelerator": "GPU",
  "colab": {
   "name": "DS16 LS_DS_433_Autoencoders_Lecture.ipynb",
   "provenance": []
  },
  "kernelspec": {
   "name": "u4-s1-nlp",
   "language": "python",
   "display_name": "U4-S1-NLP (Python3)"
  },
  "language_info": {
   "codemirror_mode": {
    "name": "ipython",
    "version": 3
   },
   "file_extension": ".py",
   "mimetype": "text/x-python",
   "name": "python",
   "nbconvert_exporter": "python",
   "pygments_lexer": "ipython3",
   "version": "3.8.5"
  }
 },
 "nbformat": 4,
 "nbformat_minor": 4
}